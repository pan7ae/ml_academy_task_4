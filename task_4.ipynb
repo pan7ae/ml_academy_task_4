{
  "nbformat": 4,
  "nbformat_minor": 0,
  "metadata": {
    "colab": {
      "provenance": []
    },
    "kernelspec": {
      "name": "python3",
      "display_name": "Python 3"
    },
    "language_info": {
      "name": "python"
    }
  },
  "cells": [
    {
      "cell_type": "markdown",
      "source": [
        "# Задание 4. Реализовать рекомендательную систему по подбору пива на основе  датасета «BeerAdvocate»"
      ],
      "metadata": {
        "id": "JiO9XQs6JLGm"
      }
    },
    {
      "cell_type": "markdown",
      "source": [
        "## Downloading and unzipping data"
      ],
      "metadata": {
        "id": "YZhueq2-g7kG"
      }
    },
    {
      "cell_type": "code",
      "execution_count": null,
      "metadata": {
        "id": "2pl-0sReypax"
      },
      "outputs": [],
      "source": [
        "# Change directory for kaggle JSON\n",
        "import os\n",
        "os.chdir(\"/content/drive/MyDrive/Colab Notebooks\")"
      ]
    },
    {
      "cell_type": "code",
      "execution_count": null,
      "metadata": {
        "id": "kW-lQ2Ecyvm6"
      },
      "outputs": [],
      "source": [
        "# Create a kaggle folder\n",
        "!mkdir -p ~/.kaggle\n",
        "\n",
        "# Copy kaggle.json to created folder\n",
        "!cp kaggle.json ~/.kaggle/"
      ]
    },
    {
      "cell_type": "code",
      "execution_count": null,
      "metadata": {
        "id": "9szpcA9XYmza"
      },
      "outputs": [],
      "source": [
        "os.chdir(\"/content\")"
      ]
    },
    {
      "cell_type": "code",
      "execution_count": null,
      "metadata": {
        "id": "4fAR12BUy2Qf"
      },
      "outputs": [],
      "source": [
        "# Permission for the json to act\n",
        "!chmod 600 ~/.kaggle/kaggle.json"
      ]
    },
    {
      "cell_type": "code",
      "execution_count": null,
      "metadata": {
        "colab": {
          "base_uri": "https://localhost:8080/"
        },
        "id": "_YaJfiZtzBNE",
        "outputId": "44897208-692e-4bc8-8dfd-100340909393"
      },
      "outputs": [
        {
          "output_type": "stream",
          "name": "stdout",
          "text": [
            "Downloading 1-5-million-beer-reviews-from-beer-advocate.zip to /content\n",
            " 28% 9.00M/32.5M [00:00<00:00, 37.8MB/s]\n",
            "100% 32.5M/32.5M [00:00<00:00, 100MB/s] \n"
          ]
        }
      ],
      "source": [
        "# Download the required dataset\n",
        "!kaggle datasets download -d thedevastator/1-5-million-beer-reviews-from-beer-advocate"
      ]
    },
    {
      "cell_type": "code",
      "execution_count": null,
      "metadata": {
        "colab": {
          "base_uri": "https://localhost:8080/"
        },
        "id": "i26-nk1DZFK1",
        "outputId": "4a8f1a06-af1d-4aee-bf67-9f12de20a16c"
      },
      "outputs": [
        {
          "output_type": "stream",
          "name": "stderr",
          "text": [
            "100%|██████████| 1/1 [00:01<00:00,  1.26s/it]\n"
          ]
        }
      ],
      "source": [
        "# Unzip our dataset\n",
        "from zipfile import ZipFile\n",
        "from tqdm import tqdm\n",
        "\n",
        "\n",
        "file_to_extract = \"1-5-million-beer-reviews-from-beer-advocate.zip\"\n",
        "\n",
        "# Open your .zip file\n",
        "with ZipFile(file=file_to_extract) as zip_file:\n",
        "\n",
        "    # Loop over each file and extract them\n",
        "    for file in tqdm(iterable=zip_file.namelist(), total=len(zip_file.namelist())):\n",
        "        zip_file.extract(member=file)"
      ]
    },
    {
      "cell_type": "markdown",
      "source": [
        "## Data Preprocessing"
      ],
      "metadata": {
        "id": "-eI0ItX3hnR1"
      }
    },
    {
      "cell_type": "code",
      "source": [
        "import pandas as pd\n",
        "import polars as pl\n",
        "import time"
      ],
      "metadata": {
        "id": "Y6j2zmKfhl41"
      },
      "execution_count": null,
      "outputs": []
    },
    {
      "cell_type": "code",
      "source": [
        "start_time = time.time()\n",
        "df = pd.read_csv(\"/content/beer_reviews.csv\", index_col=\"index\")\n",
        "end_time = time.time()\n",
        "\n",
        "print(f\"Elapsed time to read csv-file is: {end_time - start_time}\")\n",
        "df.head()"
      ],
      "metadata": {
        "colab": {
          "base_uri": "https://localhost:8080/",
          "height": 289
        },
        "id": "0_HelNmgh1ry",
        "outputId": "24a69cd5-73b4-41ad-a4af-145b4f333747"
      },
      "execution_count": null,
      "outputs": [
        {
          "output_type": "stream",
          "name": "stdout",
          "text": [
            "Elapsed time to read csv-file is: 4.048144817352295\n"
          ]
        },
        {
          "output_type": "execute_result",
          "data": {
            "text/plain": [
              "       brewery_id             brewery_name  review_time  review_overall  \\\n",
              "index                                                                     \n",
              "0           10325          Vecchio Birraio   1234817823             1.5   \n",
              "1           10325          Vecchio Birraio   1235915097             3.0   \n",
              "2           10325          Vecchio Birraio   1235916604             3.0   \n",
              "3           10325          Vecchio Birraio   1234725145             3.0   \n",
              "4            1075  Caldera Brewing Company   1293735206             4.0   \n",
              "\n",
              "       review_aroma  review_appearance review_profilename  \\\n",
              "index                                                       \n",
              "0               2.0                2.5            stcules   \n",
              "1               2.5                3.0            stcules   \n",
              "2               2.5                3.0            stcules   \n",
              "3               3.0                3.5            stcules   \n",
              "4               4.5                4.0     johnmichaelsen   \n",
              "\n",
              "                           beer_style  review_palate  review_taste  \\\n",
              "index                                                                \n",
              "0                          Hefeweizen            1.5           1.5   \n",
              "1                  English Strong Ale            3.0           3.0   \n",
              "2              Foreign / Export Stout            3.0           3.0   \n",
              "3                     German Pilsener            2.5           3.0   \n",
              "4      American Double / Imperial IPA            4.0           4.5   \n",
              "\n",
              "                    beer_name  beer_abv  beer_beerid  \n",
              "index                                                 \n",
              "0                Sausa Weizen       5.0        47986  \n",
              "1                    Red Moon       6.2        48213  \n",
              "2      Black Horse Black Beer       6.5        48215  \n",
              "3                  Sausa Pils       5.0        47969  \n",
              "4               Cauldron DIPA       7.7        64883  "
            ],
            "text/html": [
              "\n",
              "  <div id=\"df-a750fa5b-d5c3-474f-8b81-d7158649b761\" class=\"colab-df-container\">\n",
              "    <div>\n",
              "<style scoped>\n",
              "    .dataframe tbody tr th:only-of-type {\n",
              "        vertical-align: middle;\n",
              "    }\n",
              "\n",
              "    .dataframe tbody tr th {\n",
              "        vertical-align: top;\n",
              "    }\n",
              "\n",
              "    .dataframe thead th {\n",
              "        text-align: right;\n",
              "    }\n",
              "</style>\n",
              "<table border=\"1\" class=\"dataframe\">\n",
              "  <thead>\n",
              "    <tr style=\"text-align: right;\">\n",
              "      <th></th>\n",
              "      <th>brewery_id</th>\n",
              "      <th>brewery_name</th>\n",
              "      <th>review_time</th>\n",
              "      <th>review_overall</th>\n",
              "      <th>review_aroma</th>\n",
              "      <th>review_appearance</th>\n",
              "      <th>review_profilename</th>\n",
              "      <th>beer_style</th>\n",
              "      <th>review_palate</th>\n",
              "      <th>review_taste</th>\n",
              "      <th>beer_name</th>\n",
              "      <th>beer_abv</th>\n",
              "      <th>beer_beerid</th>\n",
              "    </tr>\n",
              "    <tr>\n",
              "      <th>index</th>\n",
              "      <th></th>\n",
              "      <th></th>\n",
              "      <th></th>\n",
              "      <th></th>\n",
              "      <th></th>\n",
              "      <th></th>\n",
              "      <th></th>\n",
              "      <th></th>\n",
              "      <th></th>\n",
              "      <th></th>\n",
              "      <th></th>\n",
              "      <th></th>\n",
              "      <th></th>\n",
              "    </tr>\n",
              "  </thead>\n",
              "  <tbody>\n",
              "    <tr>\n",
              "      <th>0</th>\n",
              "      <td>10325</td>\n",
              "      <td>Vecchio Birraio</td>\n",
              "      <td>1234817823</td>\n",
              "      <td>1.5</td>\n",
              "      <td>2.0</td>\n",
              "      <td>2.5</td>\n",
              "      <td>stcules</td>\n",
              "      <td>Hefeweizen</td>\n",
              "      <td>1.5</td>\n",
              "      <td>1.5</td>\n",
              "      <td>Sausa Weizen</td>\n",
              "      <td>5.0</td>\n",
              "      <td>47986</td>\n",
              "    </tr>\n",
              "    <tr>\n",
              "      <th>1</th>\n",
              "      <td>10325</td>\n",
              "      <td>Vecchio Birraio</td>\n",
              "      <td>1235915097</td>\n",
              "      <td>3.0</td>\n",
              "      <td>2.5</td>\n",
              "      <td>3.0</td>\n",
              "      <td>stcules</td>\n",
              "      <td>English Strong Ale</td>\n",
              "      <td>3.0</td>\n",
              "      <td>3.0</td>\n",
              "      <td>Red Moon</td>\n",
              "      <td>6.2</td>\n",
              "      <td>48213</td>\n",
              "    </tr>\n",
              "    <tr>\n",
              "      <th>2</th>\n",
              "      <td>10325</td>\n",
              "      <td>Vecchio Birraio</td>\n",
              "      <td>1235916604</td>\n",
              "      <td>3.0</td>\n",
              "      <td>2.5</td>\n",
              "      <td>3.0</td>\n",
              "      <td>stcules</td>\n",
              "      <td>Foreign / Export Stout</td>\n",
              "      <td>3.0</td>\n",
              "      <td>3.0</td>\n",
              "      <td>Black Horse Black Beer</td>\n",
              "      <td>6.5</td>\n",
              "      <td>48215</td>\n",
              "    </tr>\n",
              "    <tr>\n",
              "      <th>3</th>\n",
              "      <td>10325</td>\n",
              "      <td>Vecchio Birraio</td>\n",
              "      <td>1234725145</td>\n",
              "      <td>3.0</td>\n",
              "      <td>3.0</td>\n",
              "      <td>3.5</td>\n",
              "      <td>stcules</td>\n",
              "      <td>German Pilsener</td>\n",
              "      <td>2.5</td>\n",
              "      <td>3.0</td>\n",
              "      <td>Sausa Pils</td>\n",
              "      <td>5.0</td>\n",
              "      <td>47969</td>\n",
              "    </tr>\n",
              "    <tr>\n",
              "      <th>4</th>\n",
              "      <td>1075</td>\n",
              "      <td>Caldera Brewing Company</td>\n",
              "      <td>1293735206</td>\n",
              "      <td>4.0</td>\n",
              "      <td>4.5</td>\n",
              "      <td>4.0</td>\n",
              "      <td>johnmichaelsen</td>\n",
              "      <td>American Double / Imperial IPA</td>\n",
              "      <td>4.0</td>\n",
              "      <td>4.5</td>\n",
              "      <td>Cauldron DIPA</td>\n",
              "      <td>7.7</td>\n",
              "      <td>64883</td>\n",
              "    </tr>\n",
              "  </tbody>\n",
              "</table>\n",
              "</div>\n",
              "    <div class=\"colab-df-buttons\">\n",
              "\n",
              "  <div class=\"colab-df-container\">\n",
              "    <button class=\"colab-df-convert\" onclick=\"convertToInteractive('df-a750fa5b-d5c3-474f-8b81-d7158649b761')\"\n",
              "            title=\"Convert this dataframe to an interactive table.\"\n",
              "            style=\"display:none;\">\n",
              "\n",
              "  <svg xmlns=\"http://www.w3.org/2000/svg\" height=\"24px\" viewBox=\"0 -960 960 960\">\n",
              "    <path d=\"M120-120v-720h720v720H120Zm60-500h600v-160H180v160Zm220 220h160v-160H400v160Zm0 220h160v-160H400v160ZM180-400h160v-160H180v160Zm440 0h160v-160H620v160ZM180-180h160v-160H180v160Zm440 0h160v-160H620v160Z\"/>\n",
              "  </svg>\n",
              "    </button>\n",
              "\n",
              "  <style>\n",
              "    .colab-df-container {\n",
              "      display:flex;\n",
              "      gap: 12px;\n",
              "    }\n",
              "\n",
              "    .colab-df-convert {\n",
              "      background-color: #E8F0FE;\n",
              "      border: none;\n",
              "      border-radius: 50%;\n",
              "      cursor: pointer;\n",
              "      display: none;\n",
              "      fill: #1967D2;\n",
              "      height: 32px;\n",
              "      padding: 0 0 0 0;\n",
              "      width: 32px;\n",
              "    }\n",
              "\n",
              "    .colab-df-convert:hover {\n",
              "      background-color: #E2EBFA;\n",
              "      box-shadow: 0px 1px 2px rgba(60, 64, 67, 0.3), 0px 1px 3px 1px rgba(60, 64, 67, 0.15);\n",
              "      fill: #174EA6;\n",
              "    }\n",
              "\n",
              "    .colab-df-buttons div {\n",
              "      margin-bottom: 4px;\n",
              "    }\n",
              "\n",
              "    [theme=dark] .colab-df-convert {\n",
              "      background-color: #3B4455;\n",
              "      fill: #D2E3FC;\n",
              "    }\n",
              "\n",
              "    [theme=dark] .colab-df-convert:hover {\n",
              "      background-color: #434B5C;\n",
              "      box-shadow: 0px 1px 3px 1px rgba(0, 0, 0, 0.15);\n",
              "      filter: drop-shadow(0px 1px 2px rgba(0, 0, 0, 0.3));\n",
              "      fill: #FFFFFF;\n",
              "    }\n",
              "  </style>\n",
              "\n",
              "    <script>\n",
              "      const buttonEl =\n",
              "        document.querySelector('#df-a750fa5b-d5c3-474f-8b81-d7158649b761 button.colab-df-convert');\n",
              "      buttonEl.style.display =\n",
              "        google.colab.kernel.accessAllowed ? 'block' : 'none';\n",
              "\n",
              "      async function convertToInteractive(key) {\n",
              "        const element = document.querySelector('#df-a750fa5b-d5c3-474f-8b81-d7158649b761');\n",
              "        const dataTable =\n",
              "          await google.colab.kernel.invokeFunction('convertToInteractive',\n",
              "                                                    [key], {});\n",
              "        if (!dataTable) return;\n",
              "\n",
              "        const docLinkHtml = 'Like what you see? Visit the ' +\n",
              "          '<a target=\"_blank\" href=https://colab.research.google.com/notebooks/data_table.ipynb>data table notebook</a>'\n",
              "          + ' to learn more about interactive tables.';\n",
              "        element.innerHTML = '';\n",
              "        dataTable['output_type'] = 'display_data';\n",
              "        await google.colab.output.renderOutput(dataTable, element);\n",
              "        const docLink = document.createElement('div');\n",
              "        docLink.innerHTML = docLinkHtml;\n",
              "        element.appendChild(docLink);\n",
              "      }\n",
              "    </script>\n",
              "  </div>\n",
              "\n",
              "\n",
              "<div id=\"df-b3071a6e-5259-4376-9ff8-506f7ae7a6d0\">\n",
              "  <button class=\"colab-df-quickchart\" onclick=\"quickchart('df-b3071a6e-5259-4376-9ff8-506f7ae7a6d0')\"\n",
              "            title=\"Suggest charts\"\n",
              "            style=\"display:none;\">\n",
              "\n",
              "<svg xmlns=\"http://www.w3.org/2000/svg\" height=\"24px\"viewBox=\"0 0 24 24\"\n",
              "     width=\"24px\">\n",
              "    <g>\n",
              "        <path d=\"M19 3H5c-1.1 0-2 .9-2 2v14c0 1.1.9 2 2 2h14c1.1 0 2-.9 2-2V5c0-1.1-.9-2-2-2zM9 17H7v-7h2v7zm4 0h-2V7h2v10zm4 0h-2v-4h2v4z\"/>\n",
              "    </g>\n",
              "</svg>\n",
              "  </button>\n",
              "\n",
              "<style>\n",
              "  .colab-df-quickchart {\n",
              "      --bg-color: #E8F0FE;\n",
              "      --fill-color: #1967D2;\n",
              "      --hover-bg-color: #E2EBFA;\n",
              "      --hover-fill-color: #174EA6;\n",
              "      --disabled-fill-color: #AAA;\n",
              "      --disabled-bg-color: #DDD;\n",
              "  }\n",
              "\n",
              "  [theme=dark] .colab-df-quickchart {\n",
              "      --bg-color: #3B4455;\n",
              "      --fill-color: #D2E3FC;\n",
              "      --hover-bg-color: #434B5C;\n",
              "      --hover-fill-color: #FFFFFF;\n",
              "      --disabled-bg-color: #3B4455;\n",
              "      --disabled-fill-color: #666;\n",
              "  }\n",
              "\n",
              "  .colab-df-quickchart {\n",
              "    background-color: var(--bg-color);\n",
              "    border: none;\n",
              "    border-radius: 50%;\n",
              "    cursor: pointer;\n",
              "    display: none;\n",
              "    fill: var(--fill-color);\n",
              "    height: 32px;\n",
              "    padding: 0;\n",
              "    width: 32px;\n",
              "  }\n",
              "\n",
              "  .colab-df-quickchart:hover {\n",
              "    background-color: var(--hover-bg-color);\n",
              "    box-shadow: 0 1px 2px rgba(60, 64, 67, 0.3), 0 1px 3px 1px rgba(60, 64, 67, 0.15);\n",
              "    fill: var(--button-hover-fill-color);\n",
              "  }\n",
              "\n",
              "  .colab-df-quickchart-complete:disabled,\n",
              "  .colab-df-quickchart-complete:disabled:hover {\n",
              "    background-color: var(--disabled-bg-color);\n",
              "    fill: var(--disabled-fill-color);\n",
              "    box-shadow: none;\n",
              "  }\n",
              "\n",
              "  .colab-df-spinner {\n",
              "    border: 2px solid var(--fill-color);\n",
              "    border-color: transparent;\n",
              "    border-bottom-color: var(--fill-color);\n",
              "    animation:\n",
              "      spin 1s steps(1) infinite;\n",
              "  }\n",
              "\n",
              "  @keyframes spin {\n",
              "    0% {\n",
              "      border-color: transparent;\n",
              "      border-bottom-color: var(--fill-color);\n",
              "      border-left-color: var(--fill-color);\n",
              "    }\n",
              "    20% {\n",
              "      border-color: transparent;\n",
              "      border-left-color: var(--fill-color);\n",
              "      border-top-color: var(--fill-color);\n",
              "    }\n",
              "    30% {\n",
              "      border-color: transparent;\n",
              "      border-left-color: var(--fill-color);\n",
              "      border-top-color: var(--fill-color);\n",
              "      border-right-color: var(--fill-color);\n",
              "    }\n",
              "    40% {\n",
              "      border-color: transparent;\n",
              "      border-right-color: var(--fill-color);\n",
              "      border-top-color: var(--fill-color);\n",
              "    }\n",
              "    60% {\n",
              "      border-color: transparent;\n",
              "      border-right-color: var(--fill-color);\n",
              "    }\n",
              "    80% {\n",
              "      border-color: transparent;\n",
              "      border-right-color: var(--fill-color);\n",
              "      border-bottom-color: var(--fill-color);\n",
              "    }\n",
              "    90% {\n",
              "      border-color: transparent;\n",
              "      border-bottom-color: var(--fill-color);\n",
              "    }\n",
              "  }\n",
              "</style>\n",
              "\n",
              "  <script>\n",
              "    async function quickchart(key) {\n",
              "      const quickchartButtonEl =\n",
              "        document.querySelector('#' + key + ' button');\n",
              "      quickchartButtonEl.disabled = true;  // To prevent multiple clicks.\n",
              "      quickchartButtonEl.classList.add('colab-df-spinner');\n",
              "      try {\n",
              "        const charts = await google.colab.kernel.invokeFunction(\n",
              "            'suggestCharts', [key], {});\n",
              "      } catch (error) {\n",
              "        console.error('Error during call to suggestCharts:', error);\n",
              "      }\n",
              "      quickchartButtonEl.classList.remove('colab-df-spinner');\n",
              "      quickchartButtonEl.classList.add('colab-df-quickchart-complete');\n",
              "    }\n",
              "    (() => {\n",
              "      let quickchartButtonEl =\n",
              "        document.querySelector('#df-b3071a6e-5259-4376-9ff8-506f7ae7a6d0 button');\n",
              "      quickchartButtonEl.style.display =\n",
              "        google.colab.kernel.accessAllowed ? 'block' : 'none';\n",
              "    })();\n",
              "  </script>\n",
              "</div>\n",
              "    </div>\n",
              "  </div>\n"
            ]
          },
          "metadata": {},
          "execution_count": 23
        }
      ]
    },
    {
      "cell_type": "code",
      "source": [
        "start_time = time.time()\n",
        "df = pl.read_csv(\"/content/beer_reviews.csv\")\n",
        "end_time = time.time()\n",
        "\n",
        "print(f\"Elapsed time to read csv-file is: {end_time - start_time}\")\n",
        "df.head()"
      ],
      "metadata": {
        "colab": {
          "base_uri": "https://localhost:8080/",
          "height": 272
        },
        "id": "bkYpNHqah6Ju",
        "outputId": "02bde40a-4358-4bf7-c255-14c6a0102f44"
      },
      "execution_count": null,
      "outputs": [
        {
          "output_type": "stream",
          "name": "stdout",
          "text": [
            "Elapsed time to read csv-file is: 1.9511523246765137\n"
          ]
        },
        {
          "output_type": "execute_result",
          "data": {
            "text/plain": [
              "shape: (5, 14)\n",
              "┌───────┬────────────┬────────────┬────────────┬───┬────────────┬───────────┬──────────┬───────────┐\n",
              "│ index ┆ brewery_id ┆ brewery_na ┆ review_tim ┆ … ┆ review_tas ┆ beer_name ┆ beer_abv ┆ beer_beer │\n",
              "│ ---   ┆ ---        ┆ me         ┆ e          ┆   ┆ te         ┆ ---       ┆ ---      ┆ id        │\n",
              "│ i64   ┆ i64        ┆ ---        ┆ ---        ┆   ┆ ---        ┆ str       ┆ f64      ┆ ---       │\n",
              "│       ┆            ┆ str        ┆ i64        ┆   ┆ f64        ┆           ┆          ┆ i64       │\n",
              "╞═══════╪════════════╪════════════╪════════════╪═══╪════════════╪═══════════╪══════════╪═══════════╡\n",
              "│ 0     ┆ 10325      ┆ Vecchio    ┆ 1234817823 ┆ … ┆ 1.5        ┆ Sausa     ┆ 5.0      ┆ 47986     │\n",
              "│       ┆            ┆ Birraio    ┆            ┆   ┆            ┆ Weizen    ┆          ┆           │\n",
              "│ 1     ┆ 10325      ┆ Vecchio    ┆ 1235915097 ┆ … ┆ 3.0        ┆ Red Moon  ┆ 6.2      ┆ 48213     │\n",
              "│       ┆            ┆ Birraio    ┆            ┆   ┆            ┆           ┆          ┆           │\n",
              "│ 2     ┆ 10325      ┆ Vecchio    ┆ 1235916604 ┆ … ┆ 3.0        ┆ Black     ┆ 6.5      ┆ 48215     │\n",
              "│       ┆            ┆ Birraio    ┆            ┆   ┆            ┆ Horse     ┆          ┆           │\n",
              "│       ┆            ┆            ┆            ┆   ┆            ┆ Black     ┆          ┆           │\n",
              "│       ┆            ┆            ┆            ┆   ┆            ┆ Beer      ┆          ┆           │\n",
              "│ 3     ┆ 10325      ┆ Vecchio    ┆ 1234725145 ┆ … ┆ 3.0        ┆ Sausa     ┆ 5.0      ┆ 47969     │\n",
              "│       ┆            ┆ Birraio    ┆            ┆   ┆            ┆ Pils      ┆          ┆           │\n",
              "│ 4     ┆ 1075       ┆ Caldera    ┆ 1293735206 ┆ … ┆ 4.5        ┆ Cauldron  ┆ 7.7      ┆ 64883     │\n",
              "│       ┆            ┆ Brewing    ┆            ┆   ┆            ┆ DIPA      ┆          ┆           │\n",
              "│       ┆            ┆ Company    ┆            ┆   ┆            ┆           ┆          ┆           │\n",
              "└───────┴────────────┴────────────┴────────────┴───┴────────────┴───────────┴──────────┴───────────┘"
            ],
            "text/html": [
              "<div><style>\n",
              ".dataframe > thead > tr,\n",
              ".dataframe > tbody > tr {\n",
              "  text-align: right;\n",
              "  white-space: pre-wrap;\n",
              "}\n",
              "</style>\n",
              "<small>shape: (5, 14)</small><table border=\"1\" class=\"dataframe\"><thead><tr><th>index</th><th>brewery_id</th><th>brewery_name</th><th>review_time</th><th>review_overall</th><th>review_aroma</th><th>review_appearance</th><th>review_profilename</th><th>beer_style</th><th>review_palate</th><th>review_taste</th><th>beer_name</th><th>beer_abv</th><th>beer_beerid</th></tr><tr><td>i64</td><td>i64</td><td>str</td><td>i64</td><td>f64</td><td>f64</td><td>f64</td><td>str</td><td>str</td><td>f64</td><td>f64</td><td>str</td><td>f64</td><td>i64</td></tr></thead><tbody><tr><td>0</td><td>10325</td><td>&quot;Vecchio Birrai…</td><td>1234817823</td><td>1.5</td><td>2.0</td><td>2.5</td><td>&quot;stcules&quot;</td><td>&quot;Hefeweizen&quot;</td><td>1.5</td><td>1.5</td><td>&quot;Sausa Weizen&quot;</td><td>5.0</td><td>47986</td></tr><tr><td>1</td><td>10325</td><td>&quot;Vecchio Birrai…</td><td>1235915097</td><td>3.0</td><td>2.5</td><td>3.0</td><td>&quot;stcules&quot;</td><td>&quot;English Strong…</td><td>3.0</td><td>3.0</td><td>&quot;Red Moon&quot;</td><td>6.2</td><td>48213</td></tr><tr><td>2</td><td>10325</td><td>&quot;Vecchio Birrai…</td><td>1235916604</td><td>3.0</td><td>2.5</td><td>3.0</td><td>&quot;stcules&quot;</td><td>&quot;Foreign / Expo…</td><td>3.0</td><td>3.0</td><td>&quot;Black Horse Bl…</td><td>6.5</td><td>48215</td></tr><tr><td>3</td><td>10325</td><td>&quot;Vecchio Birrai…</td><td>1234725145</td><td>3.0</td><td>3.0</td><td>3.5</td><td>&quot;stcules&quot;</td><td>&quot;German Pilsene…</td><td>2.5</td><td>3.0</td><td>&quot;Sausa Pils&quot;</td><td>5.0</td><td>47969</td></tr><tr><td>4</td><td>1075</td><td>&quot;Caldera Brewin…</td><td>1293735206</td><td>4.0</td><td>4.5</td><td>4.0</td><td>&quot;johnmichaelsen…</td><td>&quot;American Doubl…</td><td>4.0</td><td>4.5</td><td>&quot;Cauldron DIPA&quot;</td><td>7.7</td><td>64883</td></tr></tbody></table></div>"
            ]
          },
          "metadata": {},
          "execution_count": 24
        }
      ]
    },
    {
      "cell_type": "code",
      "source": [],
      "metadata": {
        "id": "LKSe-IDEks4L"
      },
      "execution_count": null,
      "outputs": []
    }
  ]
}